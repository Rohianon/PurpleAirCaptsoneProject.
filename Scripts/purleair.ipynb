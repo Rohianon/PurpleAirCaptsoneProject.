{
 "cells": [
  {
   "cell_type": "code",
   "execution_count": 1,
   "metadata": {},
   "outputs": [],
   "source": [
    "import pandas as pd\n",
    "import numpy as numpy\n",
    "import matplotlib.pyplot as plt\n",
    "import seaborn as sns\n",
    "sns.set()\n"
   ]
  },
  {
   "cell_type": "code",
   "execution_count": 2,
   "metadata": {},
   "outputs": [],
   "source": [
    "import os\n",
    "import glob\n",
    "import re"
   ]
  },
  {
   "cell_type": "code",
   "execution_count": 3,
   "metadata": {},
   "outputs": [
    {
     "output_type": "stream",
     "name": "stdout",
     "text": "UTCDateTime  adc current_dewpoint_f current_humidity  \\\n0      2019/05/16T15:02:32z    0               35.1               25   \n1      2019/05/16T15:03:52z    0              34.25               25   \n2      2019/05/16T15:05:12z    0               35.1               25   \n3      2019/05/16T15:06:32z    0               35.1               25   \n4      2019/05/16T15:07:52z    0              34.07               24   \n...                     ...  ...                ...              ...   \n55506  2020/01/06T17:38:30z    0                 61               55   \n55507  2020/01/06T17:40:30z    0                 61               54   \n55508  2020/01/06T17:42:30z    0                 61               54   \n55509  2020/01/06T17:44:32z  NaN                 60               54   \n55510  2020/01/06T17:46:32z    0                 61               54   \n\n      current_temp_f firmware_ver  gas  \\\n0                 73            3  NaN   \n1                 72            3  NaN   \n2                 73            3  NaN   \n3                 73            3  NaN   \n4                 73            3  NaN   \n...              ...          ...  ...   \n55506             79         4.11  NaN   \n55507             79         4.11  NaN   \n55508             79         4.11  NaN   \n55509             79         4.11  NaN   \n55510             79         4.11  NaN   \n\n                                                hardware        mac_address  \\\n0      2.0+OPENLOG+15552 MB+DS3231+BME280+PMSX003A+PM...  80:7d:3a:2b:d8:6d   \n1      2.0+OPENLOG+15552 MB+DS3231+BME280+PMSX003A+PM...  80:7d:3a:2b:d8:6d   \n2      2.0+OPENLOG+15552 MB+DS3231+BME280+PMSX003A+PM...  80:7d:3a:2b:d8:6d   \n3      2.0+OPENLOG+15552 MB+DS3231+BME280+PMSX003A+PM...  80:7d:3a:2b:d8:6d   \n4      2.0+OPENLOG+15552 MB+DS3231+BME280+PMSX003A+PM...  80:7d:3a:2b:d8:6d   \n...                                                  ...                ...   \n55506  2.0+OPENLOG+15552 MB+DS3231+BME280+PMSX003-B+P...  80:7d:3a:2b:d8:6d   \n55507  2.0+OPENLOG+15552 MB+DS3231+BME280+PMSX003-B+P...  80:7d:3a:2b:d8:6d   \n55508  2.0+OPENLOG+15552 MB+DS3231+BME280+PMSX003-B+P...  80:7d:3a:2b:d8:6d   \n55509  2.0+OPENLOG+15552 MB+DS3231+BME280+PMSX003-B+P...  80:7d:3a:2b:d8:6d   \n55510  2.0+OPENLOG+15552 MB+DS3231+BME280+PMSX003-B+P...  80:7d:3a:2b:d8:6d   \n\n         mem  ... pm2.5_aqi_atm_b pm2.5_aqi_cf_1 pm2.5_aqi_cf_1_b pm2_5_atm  \\\n0      31312  ...             NaN            NaN              NaN      0.18   \n1      31312  ...             NaN            NaN              NaN      0.07   \n2      31312  ...             NaN            NaN              NaN      0.07   \n3      31312  ...             NaN            NaN              NaN    190.12   \n4      31312  ...             NaN            NaN              NaN    781.21   \n...      ...  ...             ...            ...              ...       ...   \n55506  36392  ...             267            211              197    241.41   \n55507  36392  ...             252            198              191    222.11   \n55508  36392  ...             253            198              192    219.91   \n55509  36656  ...             247            198              190    219.94   \n55510  36568  ...             256            202              193    228.07   \n\n      pm2_5_atm_b pm2_5_cf_1 pm2_5_cf_1_b pressure rssi uptime  \n0               0       0.18            0   856.93  -49    112  \n1            0.24       0.07         0.24    856.9  -53    192  \n2            0.24       0.07         0.24   856.93  -51    272  \n3          160.27     127.19       108.16   856.94  -49    352  \n4          784.17     520.21       522.13   856.92  -53    432  \n...           ...        ...          ...      ...  ...    ...  \n55506      217.09     160.23       144.05   858.06    0    961  \n55507      201.87     147.41       133.73   858.12    0   1081  \n55508      202.83     145.86       134.39   858.06    0   1201  \n55509      197.15     145.96       130.81   858.05    0    121  \n55510      205.91     151.22       136.54   858.04    0    241  \n\n[55511 rows x 41 columns]\n"
    }
   ],
   "source": [
    "#get the data file names\n",
    "# df = pd.concat(pd.read_csv(glob.glob('C:/Users/Rohi Anon/Desktop/ChaptrGlobal/PRojectXPurpleAir/Data/20*.csv'),engine='python'))))\n",
    "\n",
    "path = r'C:/Users/Rohi Anon/Desktop/ChaptrGlobal/PRojectXPurpleAir/Data'\n",
    "all_files = glob.glob(path + \"/*.csv\")\n",
    "\n",
    "li = []\n",
    "\n",
    "for filename in all_files:\n",
    "    df = pd.read_csv(filename, index_col=None, header=0, engine='python')\n",
    "    li.append(df)\n",
    "\n",
    "frame = pd.concat(li, axis=0, ignore_index=True)\n",
    "print(frame)\n"
   ]
  },
  {
   "cell_type": "code",
   "execution_count": 4,
   "metadata": {},
   "outputs": [
    {
     "output_type": "execute_result",
     "data": {
      "text/plain": "            UTCDateTime adc current_dewpoint_f current_humidity  \\\n0  2019/05/16T15:02:32z   0               35.1               25   \n1  2019/05/16T15:03:52z   0              34.25               25   \n2  2019/05/16T15:05:12z   0               35.1               25   \n3  2019/05/16T15:06:32z   0               35.1               25   \n4  2019/05/16T15:07:52z   0              34.07               24   \n\n  current_temp_f firmware_ver  gas  \\\n0             73            3  NaN   \n1             72            3  NaN   \n2             73            3  NaN   \n3             73            3  NaN   \n4             73            3  NaN   \n\n                                            hardware        mac_address  \\\n0  2.0+OPENLOG+15552 MB+DS3231+BME280+PMSX003A+PM...  80:7d:3a:2b:d8:6d   \n1  2.0+OPENLOG+15552 MB+DS3231+BME280+PMSX003A+PM...  80:7d:3a:2b:d8:6d   \n2  2.0+OPENLOG+15552 MB+DS3231+BME280+PMSX003A+PM...  80:7d:3a:2b:d8:6d   \n3  2.0+OPENLOG+15552 MB+DS3231+BME280+PMSX003A+PM...  80:7d:3a:2b:d8:6d   \n4  2.0+OPENLOG+15552 MB+DS3231+BME280+PMSX003A+PM...  80:7d:3a:2b:d8:6d   \n\n     mem  ... pm2.5_aqi_atm_b pm2.5_aqi_cf_1 pm2.5_aqi_cf_1_b pm2_5_atm  \\\n0  31312  ...             NaN            NaN              NaN      0.18   \n1  31312  ...             NaN            NaN              NaN      0.07   \n2  31312  ...             NaN            NaN              NaN      0.07   \n3  31312  ...             NaN            NaN              NaN    190.12   \n4  31312  ...             NaN            NaN              NaN    781.21   \n\n  pm2_5_atm_b pm2_5_cf_1 pm2_5_cf_1_b pressure rssi uptime  \n0           0       0.18            0   856.93  -49    112  \n1        0.24       0.07         0.24    856.9  -53    192  \n2        0.24       0.07         0.24   856.93  -51    272  \n3      160.27     127.19       108.16   856.94  -49    352  \n4      784.17     520.21       522.13   856.92  -53    432  \n\n[5 rows x 41 columns]",
      "text/html": "<div>\n<style scoped>\n    .dataframe tbody tr th:only-of-type {\n        vertical-align: middle;\n    }\n\n    .dataframe tbody tr th {\n        vertical-align: top;\n    }\n\n    .dataframe thead th {\n        text-align: right;\n    }\n</style>\n<table border=\"1\" class=\"dataframe\">\n  <thead>\n    <tr style=\"text-align: right;\">\n      <th></th>\n      <th>UTCDateTime</th>\n      <th>adc</th>\n      <th>current_dewpoint_f</th>\n      <th>current_humidity</th>\n      <th>current_temp_f</th>\n      <th>firmware_ver</th>\n      <th>gas</th>\n      <th>hardware</th>\n      <th>mac_address</th>\n      <th>mem</th>\n      <th>...</th>\n      <th>pm2.5_aqi_atm_b</th>\n      <th>pm2.5_aqi_cf_1</th>\n      <th>pm2.5_aqi_cf_1_b</th>\n      <th>pm2_5_atm</th>\n      <th>pm2_5_atm_b</th>\n      <th>pm2_5_cf_1</th>\n      <th>pm2_5_cf_1_b</th>\n      <th>pressure</th>\n      <th>rssi</th>\n      <th>uptime</th>\n    </tr>\n  </thead>\n  <tbody>\n    <tr>\n      <td>0</td>\n      <td>2019/05/16T15:02:32z</td>\n      <td>0</td>\n      <td>35.1</td>\n      <td>25</td>\n      <td>73</td>\n      <td>3</td>\n      <td>NaN</td>\n      <td>2.0+OPENLOG+15552 MB+DS3231+BME280+PMSX003A+PM...</td>\n      <td>80:7d:3a:2b:d8:6d</td>\n      <td>31312</td>\n      <td>...</td>\n      <td>NaN</td>\n      <td>NaN</td>\n      <td>NaN</td>\n      <td>0.18</td>\n      <td>0</td>\n      <td>0.18</td>\n      <td>0</td>\n      <td>856.93</td>\n      <td>-49</td>\n      <td>112</td>\n    </tr>\n    <tr>\n      <td>1</td>\n      <td>2019/05/16T15:03:52z</td>\n      <td>0</td>\n      <td>34.25</td>\n      <td>25</td>\n      <td>72</td>\n      <td>3</td>\n      <td>NaN</td>\n      <td>2.0+OPENLOG+15552 MB+DS3231+BME280+PMSX003A+PM...</td>\n      <td>80:7d:3a:2b:d8:6d</td>\n      <td>31312</td>\n      <td>...</td>\n      <td>NaN</td>\n      <td>NaN</td>\n      <td>NaN</td>\n      <td>0.07</td>\n      <td>0.24</td>\n      <td>0.07</td>\n      <td>0.24</td>\n      <td>856.9</td>\n      <td>-53</td>\n      <td>192</td>\n    </tr>\n    <tr>\n      <td>2</td>\n      <td>2019/05/16T15:05:12z</td>\n      <td>0</td>\n      <td>35.1</td>\n      <td>25</td>\n      <td>73</td>\n      <td>3</td>\n      <td>NaN</td>\n      <td>2.0+OPENLOG+15552 MB+DS3231+BME280+PMSX003A+PM...</td>\n      <td>80:7d:3a:2b:d8:6d</td>\n      <td>31312</td>\n      <td>...</td>\n      <td>NaN</td>\n      <td>NaN</td>\n      <td>NaN</td>\n      <td>0.07</td>\n      <td>0.24</td>\n      <td>0.07</td>\n      <td>0.24</td>\n      <td>856.93</td>\n      <td>-51</td>\n      <td>272</td>\n    </tr>\n    <tr>\n      <td>3</td>\n      <td>2019/05/16T15:06:32z</td>\n      <td>0</td>\n      <td>35.1</td>\n      <td>25</td>\n      <td>73</td>\n      <td>3</td>\n      <td>NaN</td>\n      <td>2.0+OPENLOG+15552 MB+DS3231+BME280+PMSX003A+PM...</td>\n      <td>80:7d:3a:2b:d8:6d</td>\n      <td>31312</td>\n      <td>...</td>\n      <td>NaN</td>\n      <td>NaN</td>\n      <td>NaN</td>\n      <td>190.12</td>\n      <td>160.27</td>\n      <td>127.19</td>\n      <td>108.16</td>\n      <td>856.94</td>\n      <td>-49</td>\n      <td>352</td>\n    </tr>\n    <tr>\n      <td>4</td>\n      <td>2019/05/16T15:07:52z</td>\n      <td>0</td>\n      <td>34.07</td>\n      <td>24</td>\n      <td>73</td>\n      <td>3</td>\n      <td>NaN</td>\n      <td>2.0+OPENLOG+15552 MB+DS3231+BME280+PMSX003A+PM...</td>\n      <td>80:7d:3a:2b:d8:6d</td>\n      <td>31312</td>\n      <td>...</td>\n      <td>NaN</td>\n      <td>NaN</td>\n      <td>NaN</td>\n      <td>781.21</td>\n      <td>784.17</td>\n      <td>520.21</td>\n      <td>522.13</td>\n      <td>856.92</td>\n      <td>-53</td>\n      <td>432</td>\n    </tr>\n  </tbody>\n</table>\n<p>5 rows × 41 columns</p>\n</div>"
     },
     "metadata": {},
     "execution_count": 4
    }
   ],
   "source": [
    "frame.head()"
   ]
  },
  {
   "cell_type": "code",
   "execution_count": 5,
   "metadata": {},
   "outputs": [
    {
     "output_type": "execute_result",
     "data": {
      "text/plain": "                UTCDateTime  adc current_dewpoint_f current_humidity  \\\n55506  2020/01/06T17:38:30z    0                 61               55   \n55507  2020/01/06T17:40:30z    0                 61               54   \n55508  2020/01/06T17:42:30z    0                 61               54   \n55509  2020/01/06T17:44:32z  NaN                 60               54   \n55510  2020/01/06T17:46:32z    0                 61               54   \n\n      current_temp_f firmware_ver  gas  \\\n55506             79         4.11  NaN   \n55507             79         4.11  NaN   \n55508             79         4.11  NaN   \n55509             79         4.11  NaN   \n55510             79         4.11  NaN   \n\n                                                hardware        mac_address  \\\n55506  2.0+OPENLOG+15552 MB+DS3231+BME280+PMSX003-B+P...  80:7d:3a:2b:d8:6d   \n55507  2.0+OPENLOG+15552 MB+DS3231+BME280+PMSX003-B+P...  80:7d:3a:2b:d8:6d   \n55508  2.0+OPENLOG+15552 MB+DS3231+BME280+PMSX003-B+P...  80:7d:3a:2b:d8:6d   \n55509  2.0+OPENLOG+15552 MB+DS3231+BME280+PMSX003-B+P...  80:7d:3a:2b:d8:6d   \n55510  2.0+OPENLOG+15552 MB+DS3231+BME280+PMSX003-B+P...  80:7d:3a:2b:d8:6d   \n\n         mem  ... pm2.5_aqi_atm_b pm2.5_aqi_cf_1 pm2.5_aqi_cf_1_b pm2_5_atm  \\\n55506  36392  ...             267            211              197    241.41   \n55507  36392  ...             252            198              191    222.11   \n55508  36392  ...             253            198              192    219.91   \n55509  36656  ...             247            198              190    219.94   \n55510  36568  ...             256            202              193    228.07   \n\n      pm2_5_atm_b pm2_5_cf_1 pm2_5_cf_1_b pressure rssi uptime  \n55506      217.09     160.23       144.05   858.06    0    961  \n55507      201.87     147.41       133.73   858.12    0   1081  \n55508      202.83     145.86       134.39   858.06    0   1201  \n55509      197.15     145.96       130.81   858.05    0    121  \n55510      205.91     151.22       136.54   858.04    0    241  \n\n[5 rows x 41 columns]",
      "text/html": "<div>\n<style scoped>\n    .dataframe tbody tr th:only-of-type {\n        vertical-align: middle;\n    }\n\n    .dataframe tbody tr th {\n        vertical-align: top;\n    }\n\n    .dataframe thead th {\n        text-align: right;\n    }\n</style>\n<table border=\"1\" class=\"dataframe\">\n  <thead>\n    <tr style=\"text-align: right;\">\n      <th></th>\n      <th>UTCDateTime</th>\n      <th>adc</th>\n      <th>current_dewpoint_f</th>\n      <th>current_humidity</th>\n      <th>current_temp_f</th>\n      <th>firmware_ver</th>\n      <th>gas</th>\n      <th>hardware</th>\n      <th>mac_address</th>\n      <th>mem</th>\n      <th>...</th>\n      <th>pm2.5_aqi_atm_b</th>\n      <th>pm2.5_aqi_cf_1</th>\n      <th>pm2.5_aqi_cf_1_b</th>\n      <th>pm2_5_atm</th>\n      <th>pm2_5_atm_b</th>\n      <th>pm2_5_cf_1</th>\n      <th>pm2_5_cf_1_b</th>\n      <th>pressure</th>\n      <th>rssi</th>\n      <th>uptime</th>\n    </tr>\n  </thead>\n  <tbody>\n    <tr>\n      <td>55506</td>\n      <td>2020/01/06T17:38:30z</td>\n      <td>0</td>\n      <td>61</td>\n      <td>55</td>\n      <td>79</td>\n      <td>4.11</td>\n      <td>NaN</td>\n      <td>2.0+OPENLOG+15552 MB+DS3231+BME280+PMSX003-B+P...</td>\n      <td>80:7d:3a:2b:d8:6d</td>\n      <td>36392</td>\n      <td>...</td>\n      <td>267</td>\n      <td>211</td>\n      <td>197</td>\n      <td>241.41</td>\n      <td>217.09</td>\n      <td>160.23</td>\n      <td>144.05</td>\n      <td>858.06</td>\n      <td>0</td>\n      <td>961</td>\n    </tr>\n    <tr>\n      <td>55507</td>\n      <td>2020/01/06T17:40:30z</td>\n      <td>0</td>\n      <td>61</td>\n      <td>54</td>\n      <td>79</td>\n      <td>4.11</td>\n      <td>NaN</td>\n      <td>2.0+OPENLOG+15552 MB+DS3231+BME280+PMSX003-B+P...</td>\n      <td>80:7d:3a:2b:d8:6d</td>\n      <td>36392</td>\n      <td>...</td>\n      <td>252</td>\n      <td>198</td>\n      <td>191</td>\n      <td>222.11</td>\n      <td>201.87</td>\n      <td>147.41</td>\n      <td>133.73</td>\n      <td>858.12</td>\n      <td>0</td>\n      <td>1081</td>\n    </tr>\n    <tr>\n      <td>55508</td>\n      <td>2020/01/06T17:42:30z</td>\n      <td>0</td>\n      <td>61</td>\n      <td>54</td>\n      <td>79</td>\n      <td>4.11</td>\n      <td>NaN</td>\n      <td>2.0+OPENLOG+15552 MB+DS3231+BME280+PMSX003-B+P...</td>\n      <td>80:7d:3a:2b:d8:6d</td>\n      <td>36392</td>\n      <td>...</td>\n      <td>253</td>\n      <td>198</td>\n      <td>192</td>\n      <td>219.91</td>\n      <td>202.83</td>\n      <td>145.86</td>\n      <td>134.39</td>\n      <td>858.06</td>\n      <td>0</td>\n      <td>1201</td>\n    </tr>\n    <tr>\n      <td>55509</td>\n      <td>2020/01/06T17:44:32z</td>\n      <td>NaN</td>\n      <td>60</td>\n      <td>54</td>\n      <td>79</td>\n      <td>4.11</td>\n      <td>NaN</td>\n      <td>2.0+OPENLOG+15552 MB+DS3231+BME280+PMSX003-B+P...</td>\n      <td>80:7d:3a:2b:d8:6d</td>\n      <td>36656</td>\n      <td>...</td>\n      <td>247</td>\n      <td>198</td>\n      <td>190</td>\n      <td>219.94</td>\n      <td>197.15</td>\n      <td>145.96</td>\n      <td>130.81</td>\n      <td>858.05</td>\n      <td>0</td>\n      <td>121</td>\n    </tr>\n    <tr>\n      <td>55510</td>\n      <td>2020/01/06T17:46:32z</td>\n      <td>0</td>\n      <td>61</td>\n      <td>54</td>\n      <td>79</td>\n      <td>4.11</td>\n      <td>NaN</td>\n      <td>2.0+OPENLOG+15552 MB+DS3231+BME280+PMSX003-B+P...</td>\n      <td>80:7d:3a:2b:d8:6d</td>\n      <td>36568</td>\n      <td>...</td>\n      <td>256</td>\n      <td>202</td>\n      <td>193</td>\n      <td>228.07</td>\n      <td>205.91</td>\n      <td>151.22</td>\n      <td>136.54</td>\n      <td>858.04</td>\n      <td>0</td>\n      <td>241</td>\n    </tr>\n  </tbody>\n</table>\n<p>5 rows × 41 columns</p>\n</div>"
     },
     "metadata": {},
     "execution_count": 5
    }
   ],
   "source": [
    "frame.tail()"
   ]
  },
  {
   "cell_type": "code",
   "execution_count": 7,
   "metadata": {},
   "outputs": [
    {
     "output_type": "execute_result",
     "data": {
      "text/plain": "Index(['UTCDateTime', 'adc', 'current_dewpoint_f', 'current_humidity',\n       'current_temp_f', 'firmware_ver', 'gas', 'hardware', 'mac_address',\n       'mem', 'p_0_3_um', 'p_0_3_um_b', 'p_0_5_um', 'p_0_5_um_b', 'p_10_0_um',\n       'p_10_0_um_b', 'p_1_0_um', 'p_1_0_um_b', 'p_2_5_um', 'p_2_5_um_b',\n       'p_5_0_um', 'p_5_0_um_b', 'pm10_0_atm', 'pm10_0_atm_b', 'pm10_0_cf_1',\n       'pm10_0_cf_1_b', 'pm1_0_atm', 'pm1_0_atm_b', 'pm1_0_cf_1',\n       'pm1_0_cf_1_b', 'pm2.5_aqi_atm', 'pm2.5_aqi_atm_b', 'pm2.5_aqi_cf_1',\n       'pm2.5_aqi_cf_1_b', 'pm2_5_atm', 'pm2_5_atm_b', 'pm2_5_cf_1',\n       'pm2_5_cf_1_b', 'pressure', 'rssi', 'uptime'],\n      dtype='object')"
     },
     "metadata": {},
     "execution_count": 7
    }
   ],
   "source": [
    "frame.columns"
   ]
  },
  {
   "cell_type": "markdown",
   "metadata": {},
   "source": [
    "##Making a copy of the dataframe for future engagements."
   ]
  },
  {
   "cell_type": "code",
   "execution_count": 8,
   "metadata": {},
   "outputs": [],
   "source": [
    "data = frame.copy()"
   ]
  },
  {
   "cell_type": "code",
   "execution_count": 9,
   "metadata": {},
   "outputs": [
    {
     "output_type": "execute_result",
     "data": {
      "text/plain": "RangeIndex(start=0, stop=55511, step=1)"
     },
     "metadata": {},
     "execution_count": 9
    }
   ],
   "source": [
    "data.index"
   ]
  },
  {
   "cell_type": "markdown",
   "metadata": {},
   "source": [
    "Let's drop off some columns to remain with data that makes a bit of sence. \n",
    "we'll drop:\n",
    "- adc\n",
    "- gas\n",
    "- firmware_ver\n",
    "- hardware\n",
    "- mac_address"
   ]
  },
  {
   "cell_type": "code",
   "execution_count": 13,
   "metadata": {},
   "outputs": [
    {
     "output_type": "execute_result",
     "data": {
      "text/plain": "            UTCDateTime current_dewpoint_f current_humidity current_temp_f  \\\n0  2019/05/16T15:02:32z               35.1               25             73   \n1  2019/05/16T15:03:52z              34.25               25             72   \n2  2019/05/16T15:05:12z               35.1               25             73   \n3  2019/05/16T15:06:32z               35.1               25             73   \n4  2019/05/16T15:07:52z              34.07               24             73   \n\n     mem p_0_3_um p_0_3_um_b p_0_5_um p_0_5_um_b p_10_0_um  ...  \\\n0  31312   190.57      141.4    58.95      41.29      0.68  ...   \n1  31312   159.27     174.65    49.36      49.87      0.68  ...   \n2  31312    86.23     138.68    24.96      35.23      0.68  ...   \n3  31312  15647.6    12952.3  4912.67    3932.04    106.09  ...   \n4  31312  54240.8    52133.9  17426.9    16430.2    513.31  ...   \n\n  pm2.5_aqi_atm_b pm2.5_aqi_cf_1 pm2.5_aqi_cf_1_b pm2_5_atm pm2_5_atm_b  \\\n0             NaN            NaN              NaN      0.18           0   \n1             NaN            NaN              NaN      0.07        0.24   \n2             NaN            NaN              NaN      0.07        0.24   \n3             NaN            NaN              NaN    190.12      160.27   \n4             NaN            NaN              NaN    781.21      784.17   \n\n  pm2_5_cf_1 pm2_5_cf_1_b pressure rssi uptime  \n0       0.18            0   856.93  -49    112  \n1       0.07         0.24    856.9  -53    192  \n2       0.07         0.24   856.93  -51    272  \n3     127.19       108.16   856.94  -49    352  \n4     520.21       522.13   856.92  -53    432  \n\n[5 rows x 36 columns]",
      "text/html": "<div>\n<style scoped>\n    .dataframe tbody tr th:only-of-type {\n        vertical-align: middle;\n    }\n\n    .dataframe tbody tr th {\n        vertical-align: top;\n    }\n\n    .dataframe thead th {\n        text-align: right;\n    }\n</style>\n<table border=\"1\" class=\"dataframe\">\n  <thead>\n    <tr style=\"text-align: right;\">\n      <th></th>\n      <th>UTCDateTime</th>\n      <th>current_dewpoint_f</th>\n      <th>current_humidity</th>\n      <th>current_temp_f</th>\n      <th>mem</th>\n      <th>p_0_3_um</th>\n      <th>p_0_3_um_b</th>\n      <th>p_0_5_um</th>\n      <th>p_0_5_um_b</th>\n      <th>p_10_0_um</th>\n      <th>...</th>\n      <th>pm2.5_aqi_atm_b</th>\n      <th>pm2.5_aqi_cf_1</th>\n      <th>pm2.5_aqi_cf_1_b</th>\n      <th>pm2_5_atm</th>\n      <th>pm2_5_atm_b</th>\n      <th>pm2_5_cf_1</th>\n      <th>pm2_5_cf_1_b</th>\n      <th>pressure</th>\n      <th>rssi</th>\n      <th>uptime</th>\n    </tr>\n  </thead>\n  <tbody>\n    <tr>\n      <td>0</td>\n      <td>2019/05/16T15:02:32z</td>\n      <td>35.1</td>\n      <td>25</td>\n      <td>73</td>\n      <td>31312</td>\n      <td>190.57</td>\n      <td>141.4</td>\n      <td>58.95</td>\n      <td>41.29</td>\n      <td>0.68</td>\n      <td>...</td>\n      <td>NaN</td>\n      <td>NaN</td>\n      <td>NaN</td>\n      <td>0.18</td>\n      <td>0</td>\n      <td>0.18</td>\n      <td>0</td>\n      <td>856.93</td>\n      <td>-49</td>\n      <td>112</td>\n    </tr>\n    <tr>\n      <td>1</td>\n      <td>2019/05/16T15:03:52z</td>\n      <td>34.25</td>\n      <td>25</td>\n      <td>72</td>\n      <td>31312</td>\n      <td>159.27</td>\n      <td>174.65</td>\n      <td>49.36</td>\n      <td>49.87</td>\n      <td>0.68</td>\n      <td>...</td>\n      <td>NaN</td>\n      <td>NaN</td>\n      <td>NaN</td>\n      <td>0.07</td>\n      <td>0.24</td>\n      <td>0.07</td>\n      <td>0.24</td>\n      <td>856.9</td>\n      <td>-53</td>\n      <td>192</td>\n    </tr>\n    <tr>\n      <td>2</td>\n      <td>2019/05/16T15:05:12z</td>\n      <td>35.1</td>\n      <td>25</td>\n      <td>73</td>\n      <td>31312</td>\n      <td>86.23</td>\n      <td>138.68</td>\n      <td>24.96</td>\n      <td>35.23</td>\n      <td>0.68</td>\n      <td>...</td>\n      <td>NaN</td>\n      <td>NaN</td>\n      <td>NaN</td>\n      <td>0.07</td>\n      <td>0.24</td>\n      <td>0.07</td>\n      <td>0.24</td>\n      <td>856.93</td>\n      <td>-51</td>\n      <td>272</td>\n    </tr>\n    <tr>\n      <td>3</td>\n      <td>2019/05/16T15:06:32z</td>\n      <td>35.1</td>\n      <td>25</td>\n      <td>73</td>\n      <td>31312</td>\n      <td>15647.6</td>\n      <td>12952.3</td>\n      <td>4912.67</td>\n      <td>3932.04</td>\n      <td>106.09</td>\n      <td>...</td>\n      <td>NaN</td>\n      <td>NaN</td>\n      <td>NaN</td>\n      <td>190.12</td>\n      <td>160.27</td>\n      <td>127.19</td>\n      <td>108.16</td>\n      <td>856.94</td>\n      <td>-49</td>\n      <td>352</td>\n    </tr>\n    <tr>\n      <td>4</td>\n      <td>2019/05/16T15:07:52z</td>\n      <td>34.07</td>\n      <td>24</td>\n      <td>73</td>\n      <td>31312</td>\n      <td>54240.8</td>\n      <td>52133.9</td>\n      <td>17426.9</td>\n      <td>16430.2</td>\n      <td>513.31</td>\n      <td>...</td>\n      <td>NaN</td>\n      <td>NaN</td>\n      <td>NaN</td>\n      <td>781.21</td>\n      <td>784.17</td>\n      <td>520.21</td>\n      <td>522.13</td>\n      <td>856.92</td>\n      <td>-53</td>\n      <td>432</td>\n    </tr>\n  </tbody>\n</table>\n<p>5 rows × 36 columns</p>\n</div>"
     },
     "metadata": {},
     "execution_count": 13
    }
   ],
   "source": [
    "to_drop = ['adc','gas', 'firmware_ver','mac_address','hardware']\n",
    "data.drop(columns=to_drop,inplace=True)\n",
    "data.head()"
   ]
  },
  {
   "cell_type": "code",
   "execution_count": 21,
   "metadata": {},
   "outputs": [],
   "source": [
    "def find_dtype(column):\n",
    "    return data[column].dtype"
   ]
  },
  {
   "cell_type": "code",
   "execution_count": 23,
   "metadata": {},
   "outputs": [
    {
     "output_type": "stream",
     "name": "stdout",
     "text": "object\nobject\nobject\nobject\nobject\nobject\nobject\nobject\nobject\nobject\nobject\nobject\nobject\nobject\nobject\nobject\nobject\nobject\nobject\nobject\nobject\nobject\nobject\nobject\nobject\nobject\nobject\nobject\nobject\nobject\nobject\nobject\nobject\nobject\nobject\nobject\n"
    }
   ],
   "source": [
    "for col in data.columns:\n",
    "    print(find_dtype(col))"
   ]
  },
  {
   "cell_type": "markdown",
   "metadata": {},
   "source": [
    "Looks that I need to alter the datatype ):. \n",
    "I.e. UTCDataTime is a data object , current_dewpoint_f is an integer e.t.c"
   ]
  },
  {
   "cell_type": "code",
   "execution_count": null,
   "metadata": {},
   "outputs": [],
   "source": []
  },
  {
   "cell_type": "code",
   "execution_count": null,
   "metadata": {},
   "outputs": [],
   "source": []
  }
 ],
 "metadata": {
  "language_info": {
   "codemirror_mode": {
    "name": "ipython",
    "version": 3
   },
   "file_extension": ".py",
   "mimetype": "text/x-python",
   "name": "python",
   "nbconvert_exporter": "python",
   "pygments_lexer": "ipython3",
   "version": "3.7.4-final"
  },
  "orig_nbformat": 2,
  "kernelspec": {
   "name": "python3",
   "display_name": "Python 3"
  }
 },
 "nbformat": 4,
 "nbformat_minor": 2
}